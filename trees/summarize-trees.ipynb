{
 "cells": [
  {
   "cell_type": "markdown",
   "metadata": {},
   "source": [
    "# NYC Trees Dataset Summary"
   ]
  },
  {
   "cell_type": "code",
   "execution_count": 1,
   "metadata": {},
   "outputs": [],
   "source": [
    "import pandas as pd"
   ]
  },
  {
   "cell_type": "code",
   "execution_count": 2,
   "metadata": {},
   "outputs": [],
   "source": [
    "df = pd.read_csv('datasets/trees-census.csv')"
   ]
  },
  {
   "cell_type": "markdown",
   "metadata": {},
   "source": [
    "### Row count/width"
   ]
  },
  {
   "cell_type": "code",
   "execution_count": 3,
   "metadata": {},
   "outputs": [
    {
     "data": {
      "text/plain": [
       "(683788, 42)"
      ]
     },
     "execution_count": 3,
     "metadata": {},
     "output_type": "execute_result"
    }
   ],
   "source": [
    "df.shape"
   ]
  },
  {
   "cell_type": "markdown",
   "metadata": {},
   "source": [
    "### Schema"
   ]
  },
  {
   "cell_type": "code",
   "execution_count": 4,
   "metadata": {
    "scrolled": true
   },
   "outputs": [
    {
     "data": {
      "text/plain": [
       "created_at     object\n",
       "tree_id         int64\n",
       "block_id        int64\n",
       "the_geom       object\n",
       "tree_dbh        int64\n",
       "stump_diam      int64\n",
       "curb_loc       object\n",
       "status         object\n",
       "health         object\n",
       "spc_latin      object\n",
       "spc_common     object\n",
       "steward        object\n",
       "guards         object\n",
       "sidewalk       object\n",
       "user_type      object\n",
       "problems       object\n",
       "root_stone     object\n",
       "root_grate     object\n",
       "root_other     object\n",
       "trnk_wire      object\n",
       "trnk_light     object\n",
       "trnk_other     object\n",
       "brnch_ligh     object\n",
       "brnch_shoe     object\n",
       "brnch_othe     object\n",
       "address        object\n",
       "zipcode         int64\n",
       "zip_city       object\n",
       "cb_num          int64\n",
       "borocode        int64\n",
       "boroname       object\n",
       "cncldist        int64\n",
       "st_assem        int64\n",
       "st_senate       int64\n",
       "nta            object\n",
       "nta_name       object\n",
       "boro_ct         int64\n",
       "state          object\n",
       "Latitude      float64\n",
       "longitude     float64\n",
       "x_sp          float64\n",
       "y_sp          float64\n",
       "dtype: object"
      ]
     },
     "execution_count": 4,
     "metadata": {},
     "output_type": "execute_result"
    }
   ],
   "source": [
    "df.dtypes"
   ]
  },
  {
   "cell_type": "markdown",
   "metadata": {},
   "source": [
    "### Unique IDs"
   ]
  },
  {
   "cell_type": "code",
   "execution_count": 5,
   "metadata": {
    "scrolled": true
   },
   "outputs": [
    {
     "data": {
      "text/html": [
       "<div>\n",
       "<style scoped>\n",
       "    .dataframe tbody tr th:only-of-type {\n",
       "        vertical-align: middle;\n",
       "    }\n",
       "\n",
       "    .dataframe tbody tr th {\n",
       "        vertical-align: top;\n",
       "    }\n",
       "\n",
       "    .dataframe thead th {\n",
       "        text-align: right;\n",
       "    }\n",
       "</style>\n",
       "<table border=\"1\" class=\"dataframe\">\n",
       "  <thead>\n",
       "    <tr style=\"text-align: right;\">\n",
       "      <th></th>\n",
       "      <th>tree_id</th>\n",
       "      <th>block_id</th>\n",
       "    </tr>\n",
       "  </thead>\n",
       "  <tbody>\n",
       "    <tr>\n",
       "      <th>count</th>\n",
       "      <td>683788</td>\n",
       "      <td>683788</td>\n",
       "    </tr>\n",
       "    <tr>\n",
       "      <th>unique</th>\n",
       "      <td>683788</td>\n",
       "      <td>101390</td>\n",
       "    </tr>\n",
       "    <tr>\n",
       "      <th>top</th>\n",
       "      <td>407295</td>\n",
       "      <td>204850</td>\n",
       "    </tr>\n",
       "    <tr>\n",
       "      <th>freq</th>\n",
       "      <td>1</td>\n",
       "      <td>450</td>\n",
       "    </tr>\n",
       "  </tbody>\n",
       "</table>\n",
       "</div>"
      ],
      "text/plain": [
       "       tree_id block_id\n",
       "count   683788   683788\n",
       "unique  683788   101390\n",
       "top     407295   204850\n",
       "freq         1      450"
      ]
     },
     "execution_count": 5,
     "metadata": {},
     "output_type": "execute_result"
    }
   ],
   "source": [
    "id_block = df[['tree_id', 'block_id']].astype('str')\n",
    "id_block.describe()"
   ]
  },
  {
   "cell_type": "markdown",
   "metadata": {},
   "source": [
    "# Trees by species and borough"
   ]
  },
  {
   "cell_type": "code",
   "execution_count": 6,
   "metadata": {},
   "outputs": [],
   "source": [
    "df_alive = df[df['status'] == 'Alive']"
   ]
  },
  {
   "cell_type": "code",
   "execution_count": 7,
   "metadata": {},
   "outputs": [
    {
     "data": {
      "text/plain": [
       "(652173, 42)"
      ]
     },
     "execution_count": 7,
     "metadata": {},
     "output_type": "execute_result"
    }
   ],
   "source": [
    "df_alive.shape"
   ]
  },
  {
   "cell_type": "code",
   "execution_count": 8,
   "metadata": {},
   "outputs": [],
   "source": [
    "def group_by(df, colname, percision=2):\n",
    "    size = df.groupby([colname]).size()\n",
    "    percent = round(size / len(df), percision)\n",
    "    percent_fmt = percent.apply(lambda x: f'{str(x*100)}%') \n",
    "\n",
    "    new_df = pd.concat([size, percent_fmt], axis=1)\n",
    "    new_df.columns = ['Count', 'Percent of Total']\n",
    "    return new_df\n"
   ]
  },
  {
   "cell_type": "markdown",
   "metadata": {},
   "source": [
    "### By borough"
   ]
  },
  {
   "cell_type": "code",
   "execution_count": 9,
   "metadata": {},
   "outputs": [
    {
     "data": {
      "text/html": [
       "<div>\n",
       "<style scoped>\n",
       "    .dataframe tbody tr th:only-of-type {\n",
       "        vertical-align: middle;\n",
       "    }\n",
       "\n",
       "    .dataframe tbody tr th {\n",
       "        vertical-align: top;\n",
       "    }\n",
       "\n",
       "    .dataframe thead th {\n",
       "        text-align: right;\n",
       "    }\n",
       "</style>\n",
       "<table border=\"1\" class=\"dataframe\">\n",
       "  <thead>\n",
       "    <tr style=\"text-align: right;\">\n",
       "      <th></th>\n",
       "      <th>Count</th>\n",
       "      <th>Percent of Total</th>\n",
       "    </tr>\n",
       "    <tr>\n",
       "      <th>boroname</th>\n",
       "      <th></th>\n",
       "      <th></th>\n",
       "    </tr>\n",
       "  </thead>\n",
       "  <tbody>\n",
       "    <tr>\n",
       "      <th>Bronx</th>\n",
       "      <td>80585</td>\n",
       "      <td>12.0%</td>\n",
       "    </tr>\n",
       "    <tr>\n",
       "      <th>Brooklyn</th>\n",
       "      <td>169744</td>\n",
       "      <td>26.0%</td>\n",
       "    </tr>\n",
       "    <tr>\n",
       "      <th>Manhattan</th>\n",
       "      <td>62427</td>\n",
       "      <td>10.0%</td>\n",
       "    </tr>\n",
       "    <tr>\n",
       "      <th>Queens</th>\n",
       "      <td>237974</td>\n",
       "      <td>36.0%</td>\n",
       "    </tr>\n",
       "    <tr>\n",
       "      <th>Staten Island</th>\n",
       "      <td>101443</td>\n",
       "      <td>16.0%</td>\n",
       "    </tr>\n",
       "  </tbody>\n",
       "</table>\n",
       "</div>"
      ],
      "text/plain": [
       "                Count Percent of Total\n",
       "boroname                              \n",
       "Bronx           80585            12.0%\n",
       "Brooklyn       169744            26.0%\n",
       "Manhattan       62427            10.0%\n",
       "Queens         237974            36.0%\n",
       "Staten Island  101443            16.0%"
      ]
     },
     "execution_count": 9,
     "metadata": {},
     "output_type": "execute_result"
    }
   ],
   "source": [
    "group_by(df_alive, 'boroname')"
   ]
  },
  {
   "cell_type": "markdown",
   "metadata": {},
   "source": [
    "### By species"
   ]
  },
  {
   "cell_type": "code",
   "execution_count": 10,
   "metadata": {},
   "outputs": [
    {
     "data": {
      "text/html": [
       "<div>\n",
       "<style scoped>\n",
       "    .dataframe tbody tr th:only-of-type {\n",
       "        vertical-align: middle;\n",
       "    }\n",
       "\n",
       "    .dataframe tbody tr th {\n",
       "        vertical-align: top;\n",
       "    }\n",
       "\n",
       "    .dataframe thead th {\n",
       "        text-align: right;\n",
       "    }\n",
       "</style>\n",
       "<table border=\"1\" class=\"dataframe\">\n",
       "  <thead>\n",
       "    <tr style=\"text-align: right;\">\n",
       "      <th></th>\n",
       "      <th>Count</th>\n",
       "      <th>Percent of Total</th>\n",
       "    </tr>\n",
       "    <tr>\n",
       "      <th>spc_common</th>\n",
       "      <th></th>\n",
       "      <th></th>\n",
       "    </tr>\n",
       "  </thead>\n",
       "  <tbody>\n",
       "    <tr>\n",
       "      <th>'Schubert' chokecherry</th>\n",
       "      <td>4888</td>\n",
       "      <td>1.0%</td>\n",
       "    </tr>\n",
       "    <tr>\n",
       "      <th>American beech</th>\n",
       "      <td>273</td>\n",
       "      <td>0.0%</td>\n",
       "    </tr>\n",
       "    <tr>\n",
       "      <th>American elm</th>\n",
       "      <td>7975</td>\n",
       "      <td>1.0%</td>\n",
       "    </tr>\n",
       "    <tr>\n",
       "      <th>American hophornbeam</th>\n",
       "      <td>1081</td>\n",
       "      <td>0.0%</td>\n",
       "    </tr>\n",
       "    <tr>\n",
       "      <th>American hornbeam</th>\n",
       "      <td>1517</td>\n",
       "      <td>0.0%</td>\n",
       "    </tr>\n",
       "    <tr>\n",
       "      <th>American larch</th>\n",
       "      <td>46</td>\n",
       "      <td>0.0%</td>\n",
       "    </tr>\n",
       "    <tr>\n",
       "      <th>American linden</th>\n",
       "      <td>13530</td>\n",
       "      <td>2.0%</td>\n",
       "    </tr>\n",
       "    <tr>\n",
       "      <th>Amur cork tree</th>\n",
       "      <td>183</td>\n",
       "      <td>0.0%</td>\n",
       "    </tr>\n",
       "    <tr>\n",
       "      <th>Amur maackia</th>\n",
       "      <td>2197</td>\n",
       "      <td>0.0%</td>\n",
       "    </tr>\n",
       "    <tr>\n",
       "      <th>Amur maple</th>\n",
       "      <td>2049</td>\n",
       "      <td>0.0%</td>\n",
       "    </tr>\n",
       "    <tr>\n",
       "      <th>Atlantic white cedar</th>\n",
       "      <td>355</td>\n",
       "      <td>0.0%</td>\n",
       "    </tr>\n",
       "    <tr>\n",
       "      <th>Atlas cedar</th>\n",
       "      <td>87</td>\n",
       "      <td>0.0%</td>\n",
       "    </tr>\n",
       "    <tr>\n",
       "      <th>Callery pear</th>\n",
       "      <td>58931</td>\n",
       "      <td>9.0%</td>\n",
       "    </tr>\n",
       "    <tr>\n",
       "      <th>Chinese chestnut</th>\n",
       "      <td>173</td>\n",
       "      <td>0.0%</td>\n",
       "    </tr>\n",
       "    <tr>\n",
       "      <th>Chinese elm</th>\n",
       "      <td>5345</td>\n",
       "      <td>1.0%</td>\n",
       "    </tr>\n",
       "    <tr>\n",
       "      <th>Chinese fringetree</th>\n",
       "      <td>234</td>\n",
       "      <td>0.0%</td>\n",
       "    </tr>\n",
       "    <tr>\n",
       "      <th>Chinese tree lilac</th>\n",
       "      <td>462</td>\n",
       "      <td>0.0%</td>\n",
       "    </tr>\n",
       "    <tr>\n",
       "      <th>Cornelian cherry</th>\n",
       "      <td>1066</td>\n",
       "      <td>0.0%</td>\n",
       "    </tr>\n",
       "    <tr>\n",
       "      <th>Douglas-fir</th>\n",
       "      <td>85</td>\n",
       "      <td>0.0%</td>\n",
       "    </tr>\n",
       "    <tr>\n",
       "      <th>English oak</th>\n",
       "      <td>1644</td>\n",
       "      <td>0.0%</td>\n",
       "    </tr>\n",
       "    <tr>\n",
       "      <th>European alder</th>\n",
       "      <td>47</td>\n",
       "      <td>0.0%</td>\n",
       "    </tr>\n",
       "    <tr>\n",
       "      <th>European beech</th>\n",
       "      <td>125</td>\n",
       "      <td>0.0%</td>\n",
       "    </tr>\n",
       "    <tr>\n",
       "      <th>European hornbeam</th>\n",
       "      <td>2099</td>\n",
       "      <td>0.0%</td>\n",
       "    </tr>\n",
       "    <tr>\n",
       "      <th>Himalayan cedar</th>\n",
       "      <td>72</td>\n",
       "      <td>0.0%</td>\n",
       "    </tr>\n",
       "    <tr>\n",
       "      <th>Japanese hornbeam</th>\n",
       "      <td>426</td>\n",
       "      <td>0.0%</td>\n",
       "    </tr>\n",
       "    <tr>\n",
       "      <th>Japanese maple</th>\n",
       "      <td>1130</td>\n",
       "      <td>0.0%</td>\n",
       "    </tr>\n",
       "    <tr>\n",
       "      <th>Japanese snowbell</th>\n",
       "      <td>392</td>\n",
       "      <td>0.0%</td>\n",
       "    </tr>\n",
       "    <tr>\n",
       "      <th>Japanese tree lilac</th>\n",
       "      <td>4568</td>\n",
       "      <td>1.0%</td>\n",
       "    </tr>\n",
       "    <tr>\n",
       "      <th>Japanese zelkova</th>\n",
       "      <td>29258</td>\n",
       "      <td>4.0%</td>\n",
       "    </tr>\n",
       "    <tr>\n",
       "      <th>Kentucky coffeetree</th>\n",
       "      <td>3364</td>\n",
       "      <td>1.0%</td>\n",
       "    </tr>\n",
       "    <tr>\n",
       "      <th>...</th>\n",
       "      <td>...</td>\n",
       "      <td>...</td>\n",
       "    </tr>\n",
       "    <tr>\n",
       "      <th>red horse chestnut</th>\n",
       "      <td>116</td>\n",
       "      <td>0.0%</td>\n",
       "    </tr>\n",
       "    <tr>\n",
       "      <th>red maple</th>\n",
       "      <td>17246</td>\n",
       "      <td>3.0%</td>\n",
       "    </tr>\n",
       "    <tr>\n",
       "      <th>red pine</th>\n",
       "      <td>106</td>\n",
       "      <td>0.0%</td>\n",
       "    </tr>\n",
       "    <tr>\n",
       "      <th>river birch</th>\n",
       "      <td>565</td>\n",
       "      <td>0.0%</td>\n",
       "    </tr>\n",
       "    <tr>\n",
       "      <th>sassafras</th>\n",
       "      <td>171</td>\n",
       "      <td>0.0%</td>\n",
       "    </tr>\n",
       "    <tr>\n",
       "      <th>sawtooth oak</th>\n",
       "      <td>2244</td>\n",
       "      <td>0.0%</td>\n",
       "    </tr>\n",
       "    <tr>\n",
       "      <th>scarlet oak</th>\n",
       "      <td>1465</td>\n",
       "      <td>0.0%</td>\n",
       "    </tr>\n",
       "    <tr>\n",
       "      <th>serviceberry</th>\n",
       "      <td>2032</td>\n",
       "      <td>0.0%</td>\n",
       "    </tr>\n",
       "    <tr>\n",
       "      <th>shingle oak</th>\n",
       "      <td>1049</td>\n",
       "      <td>0.0%</td>\n",
       "    </tr>\n",
       "    <tr>\n",
       "      <th>silver birch</th>\n",
       "      <td>300</td>\n",
       "      <td>0.0%</td>\n",
       "    </tr>\n",
       "    <tr>\n",
       "      <th>silver linden</th>\n",
       "      <td>7995</td>\n",
       "      <td>1.0%</td>\n",
       "    </tr>\n",
       "    <tr>\n",
       "      <th>silver maple</th>\n",
       "      <td>12277</td>\n",
       "      <td>2.0%</td>\n",
       "    </tr>\n",
       "    <tr>\n",
       "      <th>smoketree</th>\n",
       "      <td>58</td>\n",
       "      <td>0.0%</td>\n",
       "    </tr>\n",
       "    <tr>\n",
       "      <th>southern magnolia</th>\n",
       "      <td>132</td>\n",
       "      <td>0.0%</td>\n",
       "    </tr>\n",
       "    <tr>\n",
       "      <th>southern red oak</th>\n",
       "      <td>83</td>\n",
       "      <td>0.0%</td>\n",
       "    </tr>\n",
       "    <tr>\n",
       "      <th>spruce</th>\n",
       "      <td>202</td>\n",
       "      <td>0.0%</td>\n",
       "    </tr>\n",
       "    <tr>\n",
       "      <th>sugar maple</th>\n",
       "      <td>2844</td>\n",
       "      <td>0.0%</td>\n",
       "    </tr>\n",
       "    <tr>\n",
       "      <th>swamp white oak</th>\n",
       "      <td>6598</td>\n",
       "      <td>1.0%</td>\n",
       "    </tr>\n",
       "    <tr>\n",
       "      <th>sweetgum</th>\n",
       "      <td>10657</td>\n",
       "      <td>2.0%</td>\n",
       "    </tr>\n",
       "    <tr>\n",
       "      <th>sycamore maple</th>\n",
       "      <td>2731</td>\n",
       "      <td>0.0%</td>\n",
       "    </tr>\n",
       "    <tr>\n",
       "      <th>tartar maple</th>\n",
       "      <td>153</td>\n",
       "      <td>0.0%</td>\n",
       "    </tr>\n",
       "    <tr>\n",
       "      <th>tree of heaven</th>\n",
       "      <td>756</td>\n",
       "      <td>0.0%</td>\n",
       "    </tr>\n",
       "    <tr>\n",
       "      <th>trident maple</th>\n",
       "      <td>110</td>\n",
       "      <td>0.0%</td>\n",
       "    </tr>\n",
       "    <tr>\n",
       "      <th>tulip-poplar</th>\n",
       "      <td>1076</td>\n",
       "      <td>0.0%</td>\n",
       "    </tr>\n",
       "    <tr>\n",
       "      <th>two-winged silverbell</th>\n",
       "      <td>221</td>\n",
       "      <td>0.0%</td>\n",
       "    </tr>\n",
       "    <tr>\n",
       "      <th>weeping willow</th>\n",
       "      <td>282</td>\n",
       "      <td>0.0%</td>\n",
       "    </tr>\n",
       "    <tr>\n",
       "      <th>white ash</th>\n",
       "      <td>1121</td>\n",
       "      <td>0.0%</td>\n",
       "    </tr>\n",
       "    <tr>\n",
       "      <th>white oak</th>\n",
       "      <td>1686</td>\n",
       "      <td>0.0%</td>\n",
       "    </tr>\n",
       "    <tr>\n",
       "      <th>white pine</th>\n",
       "      <td>202</td>\n",
       "      <td>0.0%</td>\n",
       "    </tr>\n",
       "    <tr>\n",
       "      <th>willow oak</th>\n",
       "      <td>3184</td>\n",
       "      <td>0.0%</td>\n",
       "    </tr>\n",
       "  </tbody>\n",
       "</table>\n",
       "<p>132 rows × 2 columns</p>\n",
       "</div>"
      ],
      "text/plain": [
       "                        Count Percent of Total\n",
       "spc_common                                    \n",
       "'Schubert' chokecherry   4888             1.0%\n",
       "American beech            273             0.0%\n",
       "American elm             7975             1.0%\n",
       "American hophornbeam     1081             0.0%\n",
       "American hornbeam        1517             0.0%\n",
       "American larch             46             0.0%\n",
       "American linden         13530             2.0%\n",
       "Amur cork tree            183             0.0%\n",
       "Amur maackia             2197             0.0%\n",
       "Amur maple               2049             0.0%\n",
       "Atlantic white cedar      355             0.0%\n",
       "Atlas cedar                87             0.0%\n",
       "Callery pear            58931             9.0%\n",
       "Chinese chestnut          173             0.0%\n",
       "Chinese elm              5345             1.0%\n",
       "Chinese fringetree        234             0.0%\n",
       "Chinese tree lilac        462             0.0%\n",
       "Cornelian cherry         1066             0.0%\n",
       "Douglas-fir                85             0.0%\n",
       "English oak              1644             0.0%\n",
       "European alder             47             0.0%\n",
       "European beech            125             0.0%\n",
       "European hornbeam        2099             0.0%\n",
       "Himalayan cedar            72             0.0%\n",
       "Japanese hornbeam         426             0.0%\n",
       "Japanese maple           1130             0.0%\n",
       "Japanese snowbell         392             0.0%\n",
       "Japanese tree lilac      4568             1.0%\n",
       "Japanese zelkova        29258             4.0%\n",
       "Kentucky coffeetree      3364             1.0%\n",
       "...                       ...              ...\n",
       "red horse chestnut        116             0.0%\n",
       "red maple               17246             3.0%\n",
       "red pine                  106             0.0%\n",
       "river birch               565             0.0%\n",
       "sassafras                 171             0.0%\n",
       "sawtooth oak             2244             0.0%\n",
       "scarlet oak              1465             0.0%\n",
       "serviceberry             2032             0.0%\n",
       "shingle oak              1049             0.0%\n",
       "silver birch              300             0.0%\n",
       "silver linden            7995             1.0%\n",
       "silver maple            12277             2.0%\n",
       "smoketree                  58             0.0%\n",
       "southern magnolia         132             0.0%\n",
       "southern red oak           83             0.0%\n",
       "spruce                    202             0.0%\n",
       "sugar maple              2844             0.0%\n",
       "swamp white oak          6598             1.0%\n",
       "sweetgum                10657             2.0%\n",
       "sycamore maple           2731             0.0%\n",
       "tartar maple              153             0.0%\n",
       "tree of heaven            756             0.0%\n",
       "trident maple             110             0.0%\n",
       "tulip-poplar             1076             0.0%\n",
       "two-winged silverbell     221             0.0%\n",
       "weeping willow            282             0.0%\n",
       "white ash                1121             0.0%\n",
       "white oak                1686             0.0%\n",
       "white pine                202             0.0%\n",
       "willow oak               3184             0.0%\n",
       "\n",
       "[132 rows x 2 columns]"
      ]
     },
     "execution_count": 10,
     "metadata": {},
     "output_type": "execute_result"
    }
   ],
   "source": [
    "group_by(df_alive, 'spc_common', percision=2)"
   ]
  },
  {
   "cell_type": "markdown",
   "metadata": {},
   "source": [
    "# Tree diameter"
   ]
  },
  {
   "cell_type": "code",
   "execution_count": 11,
   "metadata": {},
   "outputs": [],
   "source": [
    "import matplotlib\n",
    "import numpy as np"
   ]
  },
  {
   "cell_type": "code",
   "execution_count": 12,
   "metadata": {
    "scrolled": false
   },
   "outputs": [],
   "source": [
    "l = np.arange(0.1, 1.0, 0.1)\n",
    "percentiles = df['tree_dbh'].quantile(l)"
   ]
  },
  {
   "cell_type": "markdown",
   "metadata": {},
   "source": [
    "### Distribution by percentiles"
   ]
  },
  {
   "cell_type": "code",
   "execution_count": 13,
   "metadata": {},
   "outputs": [
    {
     "data": {
      "text/plain": [
       "0.1     3.0\n",
       "0.2     4.0\n",
       "0.3     5.0\n",
       "0.4     7.0\n",
       "0.5     9.0\n",
       "0.6    11.0\n",
       "0.7    14.0\n",
       "0.8    18.0\n",
       "0.9    24.0\n",
       "Name: tree_dbh, dtype: float64"
      ]
     },
     "execution_count": 13,
     "metadata": {},
     "output_type": "execute_result"
    }
   ],
   "source": [
    "percentiles"
   ]
  },
  {
   "cell_type": "code",
   "execution_count": 18,
   "metadata": {},
   "outputs": [
    {
     "data": {
      "text/plain": [
       "<matplotlib.axes._subplots.AxesSubplot at 0x113e8e7f0>"
      ]
     },
     "execution_count": 18,
     "metadata": {},
     "output_type": "execute_result"
    },
    {
     "data": {
      "image/png": "[encoded data removed]",
      "text/plain": [
       "<Figure size 432x288 with 1 Axes>"
      ]
     },
     "metadata": {
      "needs_background": "light"
     },
     "output_type": "display_data"
    }
   ],
   "source": [
    "percentiles.plot.bar(x='p', y='d')"
   ]
  },
  {
   "cell_type": "markdown",
   "metadata": {},
   "source": [
    "### Histogram"
   ]
  },
  {
   "cell_type": "markdown",
   "metadata": {},
   "source": [
    "*Outliers greater than diameter of 50 are ignored"
   ]
  },
  {
   "cell_type": "code",
   "execution_count": 30,
   "metadata": {},
   "outputs": [
    {
     "data": {
      "text/plain": [
       "<matplotlib.axes._subplots.AxesSubplot at 0x11670afd0>"
      ]
     },
     "execution_count": 30,
     "metadata": {},
     "output_type": "execute_result"
    },
    {
     "data": {
      "image/png": "[encoded data removed]",
      "text/plain": [
       "<Figure size 432x288 with 1 Axes>"
      ]
     },
     "metadata": {
      "needs_background": "light"
     },
     "output_type": "display_data"
    }
   ],
   "source": [
    "df['tree_dbh'].hist(range=[0, 50], bins=100)"
   ]
  }
 ],
 "metadata": {
  "kernelspec": {
   "display_name": "trees",
   "language": "python",
   "name": "trees"
  },
  "language_info": {
   "codemirror_mode": {
    "name": "ipython",
    "version": 3
   },
   "file_extension": ".py",
   "mimetype": "text/x-python",
   "name": "python",
   "nbconvert_exporter": "python",
   "pygments_lexer": "ipython3",
   "version": "3.6.2"
  }
 },
 "nbformat": 4,
 "nbformat_minor": 2
}
